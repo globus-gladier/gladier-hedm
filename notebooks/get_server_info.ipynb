{
 "cells": [
  {
   "cell_type": "markdown",
   "metadata": {},
   "source": [
    "# Server Check\n",
    "\n",
    "This notebook checks the version of a server based on UUID"
   ]
  },
  {
   "cell_type": "code",
   "execution_count": null,
   "metadata": {},
   "outputs": [],
   "source": [
    "import funcx\n",
    "from funcx.sdk.client import FuncXClient"
   ]
  },
  {
   "cell_type": "code",
   "execution_count": null,
   "metadata": {},
   "outputs": [],
   "source": [
    "fxc = FuncXClient()\n",
    "\n",
    "def check_server():\n",
    "    import funcx as fx \n",
    "    import funcx_endpoint as fxe\n",
    "    fxv = fx.__version__\n",
    "    fxev = fxe.endpoint.VERSION\n",
    "    return(fxv,fxev)\n",
    "\n",
    "check_uuid = fxc.register_function(check_server)\n",
    "\n",
    "def check_ep(endpoint_id):\n",
    "    res = fxc.run(endpoint_id=endpoint_id, function_id=check_uuid)\n",
    "    version =fxc.get_result(res)\n",
    "    print('EP Funcx Version = ' + version[0])\n",
    "    print('EP Funcx-Endpoint Version = ' + version[1])\n",
    "    return\n"
   ]
  },
  {
   "cell_type": "code",
   "execution_count": null,
   "metadata": {},
   "outputs": [],
   "source": [
    "tutorial_endpoint = 'a694a32d-8707-4884-b205-3cfc87c4f667'\n",
    "##\n",
    "print('Local funcx version = ' + funcx.__version__)\n",
    "## \n",
    "check_ep(tutorial_endpoint)"
   ]
  }
 ],
 "metadata": {
  "kernelspec": {
   "name": "python395jvsc74a57bd01e1c5be25592289d0ad4fc0701504cf11195459da7e191f56974b79cf336da02",
   "display_name": "Python 3.9.5 64-bit ('gladier_demo': conda)"
  },
  "language_info": {
   "codemirror_mode": {
    "name": "ipython",
    "version": 3
   },
   "file_extension": ".py",
   "mimetype": "text/x-python",
   "name": "python",
   "nbconvert_exporter": "python",
   "pygments_lexer": "ipython3",
   "version": "3.9.5"
  }
 },
 "nbformat": 4,
 "nbformat_minor": 4
}